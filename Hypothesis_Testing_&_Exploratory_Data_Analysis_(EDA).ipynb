{
  "cells": [
    {
      "cell_type": "markdown",
      "metadata": {
        "id": "view-in-github",
        "colab_type": "text"
      },
      "source": [
        "<a href=\"https://colab.research.google.com/github/manarifz/Exploratory-Data-Analysis-EDA/blob/main/Hypothesis_Testing_%26_Exploratory_Data_Analysis_(EDA).ipynb\" target=\"_parent\"><img src=\"https://colab.research.google.com/assets/colab-badge.svg\" alt=\"Open In Colab\"/></a>"
      ]
    },
    {
      "cell_type": "markdown",
      "metadata": {
        "id": "LWZk0rE7F4zC"
      },
      "source": [
        "## Task : Hypothesis Testing & Exploratory Data Analysis (EDA)\n",
        "\n",
        "- A student from University A believes that University A is harder than University B and typically, students in University A receive lower GPAs than students in University B. The student collected a sample of data given below.\n",
        "\n",
        "- (a) Based on the given situation, suggest a suitable hypothesis test that the student can perform. Then, write down a suitable null and alternative hypothesis that can be used for the test.\n",
        "\n",
        "- (b) Using the data, conduct an exploratory data analysis (EDA). Calculate useful numerical measures, produce relevant plots or figures, and explain what you can observe.\n",
        "\n",
        "- (c) When a hypothesis testing is conducted to the data, it is found that the p-value is 0.21. (You do not need to find this p-value.) How would you conclude the hypothesis testing using this p-value and the hypotheses given in (a)."
      ]
    },
    {
      "cell_type": "markdown",
      "metadata": {
        "id": "K1OnijStF4zE"
      },
      "source": [
        "\n",
        "### Since the claim involves comparing the mean GPAs of two independent groups (students from University A and University B), a suitable hypothesis test would be an Independent Two-Sample t-test.\n",
        "\n",
        "- Null and Alternative Hypotheses: Null Hypothesis (Ho) : There is no significant difference in mean GPAs between University A and University B,  𝜇𝐴 = 𝜇𝐵\n",
        "\n",
        "- Alternative Hypothesis (H1): Students in University A receive lower GPAs than those in University B, 𝜇𝐴 < 𝜇𝐵 (one-tailed test)."
      ]
    },
    {
      "cell_type": "code",
      "execution_count": null,
      "metadata": {
        "id": "sHJxlCIxF4zF"
      },
      "outputs": [],
      "source": [
        "import numpy as np\n",
        "import pandas as pd\n",
        "import matplotlib.pyplot as plt\n",
        "import seaborn as sns\n",
        "\n",
        "# Data\n",
        "Uni_A = [1.33, 1.52, 2.02, 2.05, 2.14, 2.29, 2.36, 2.42, 2.48, 2.62,\n",
        "         2.71, 2.81, 2.81, 2.82, 2.96, 2.99, 3.11, 3.12, 3.12, 3.18,\n",
        "         3.21, 3.25, 3.37, 3.58, 3.70]\n",
        "\n",
        "Uni_B = [1.57, 1.97, 2.00, 2.06, 2.07, 2.11, 2.48, 2.51, 2.64, 2.75,\n",
        "         2.77, 2.82, 3.04, 3.08, 3.11, 3.15, 3.25, 3.27, 3.27, 3.36,\n",
        "         3.45, 3.45, 3.49, 3.74, 3.80]"
      ]
    },
    {
      "cell_type": "code",
      "execution_count": null,
      "metadata": {
        "id": "203jDaNPF4zF",
        "outputId": "0edffc52-d82b-4c6b-d8f1-e2d8500d06b1"
      },
      "outputs": [
        {
          "data": {
            "text/html": [
              "<div>\n",
              "<style scoped>\n",
              "    .dataframe tbody tr th:only-of-type {\n",
              "        vertical-align: middle;\n",
              "    }\n",
              "\n",
              "    .dataframe tbody tr th {\n",
              "        vertical-align: top;\n",
              "    }\n",
              "\n",
              "    .dataframe thead th {\n",
              "        text-align: right;\n",
              "    }\n",
              "</style>\n",
              "<table border=\"1\" class=\"dataframe\">\n",
              "  <thead>\n",
              "    <tr style=\"text-align: right;\">\n",
              "      <th></th>\n",
              "      <th>University A</th>\n",
              "      <th>University B</th>\n",
              "    </tr>\n",
              "  </thead>\n",
              "  <tbody>\n",
              "    <tr>\n",
              "      <th>0</th>\n",
              "      <td>1.33</td>\n",
              "      <td>1.57</td>\n",
              "    </tr>\n",
              "    <tr>\n",
              "      <th>1</th>\n",
              "      <td>1.52</td>\n",
              "      <td>1.97</td>\n",
              "    </tr>\n",
              "    <tr>\n",
              "      <th>2</th>\n",
              "      <td>2.02</td>\n",
              "      <td>2.00</td>\n",
              "    </tr>\n",
              "    <tr>\n",
              "      <th>3</th>\n",
              "      <td>2.05</td>\n",
              "      <td>2.06</td>\n",
              "    </tr>\n",
              "    <tr>\n",
              "      <th>4</th>\n",
              "      <td>2.14</td>\n",
              "      <td>2.07</td>\n",
              "    </tr>\n",
              "    <tr>\n",
              "      <th>5</th>\n",
              "      <td>2.29</td>\n",
              "      <td>2.11</td>\n",
              "    </tr>\n",
              "    <tr>\n",
              "      <th>6</th>\n",
              "      <td>2.36</td>\n",
              "      <td>2.48</td>\n",
              "    </tr>\n",
              "    <tr>\n",
              "      <th>7</th>\n",
              "      <td>2.42</td>\n",
              "      <td>2.51</td>\n",
              "    </tr>\n",
              "    <tr>\n",
              "      <th>8</th>\n",
              "      <td>2.48</td>\n",
              "      <td>2.64</td>\n",
              "    </tr>\n",
              "    <tr>\n",
              "      <th>9</th>\n",
              "      <td>2.62</td>\n",
              "      <td>2.75</td>\n",
              "    </tr>\n",
              "  </tbody>\n",
              "</table>\n",
              "</div>"
            ],
            "text/plain": [
              "   University A  University B\n",
              "0          1.33          1.57\n",
              "1          1.52          1.97\n",
              "2          2.02          2.00\n",
              "3          2.05          2.06\n",
              "4          2.14          2.07\n",
              "5          2.29          2.11\n",
              "6          2.36          2.48\n",
              "7          2.42          2.51\n",
              "8          2.48          2.64\n",
              "9          2.62          2.75"
            ]
          },
          "execution_count": 2,
          "metadata": {},
          "output_type": "execute_result"
        }
      ],
      "source": [
        "# Convert to pandas Series\n",
        "data_a = pd.Series(Uni_A, name=\"University A\")\n",
        "data_b = pd.Series(Uni_B, name=\"University B\")\n",
        "\n",
        "# Combine into a single DataFrame\n",
        "combined_data = pd.concat([data_a, data_b], axis=1)\n",
        "combined_data.head(10)"
      ]
    },
    {
      "cell_type": "code",
      "execution_count": null,
      "metadata": {
        "id": "x-XhURxPF4zG",
        "outputId": "230beb9a-68e8-4ebc-913b-8b884247534b"
      },
      "outputs": [
        {
          "name": "stdout",
          "output_type": "stream",
          "text": [
            "Numerical Summary:\n"
          ]
        },
        {
          "data": {
            "text/html": [
              "<div>\n",
              "<style scoped>\n",
              "    .dataframe tbody tr th:only-of-type {\n",
              "        vertical-align: middle;\n",
              "    }\n",
              "\n",
              "    .dataframe tbody tr th {\n",
              "        vertical-align: top;\n",
              "    }\n",
              "\n",
              "    .dataframe thead th {\n",
              "        text-align: right;\n",
              "    }\n",
              "</style>\n",
              "<table border=\"1\" class=\"dataframe\">\n",
              "  <thead>\n",
              "    <tr style=\"text-align: right;\">\n",
              "      <th></th>\n",
              "      <th>Mean</th>\n",
              "      <th>Median</th>\n",
              "      <th>Standard Deviation</th>\n",
              "      <th>IQR</th>\n",
              "    </tr>\n",
              "  </thead>\n",
              "  <tbody>\n",
              "    <tr>\n",
              "      <th>University A</th>\n",
              "      <td>2.7188</td>\n",
              "      <td>2.81</td>\n",
              "      <td>0.598730</td>\n",
              "      <td>0.76</td>\n",
              "    </tr>\n",
              "    <tr>\n",
              "      <th>University B</th>\n",
              "      <td>2.8484</td>\n",
              "      <td>3.04</td>\n",
              "      <td>0.614849</td>\n",
              "      <td>0.79</td>\n",
              "    </tr>\n",
              "  </tbody>\n",
              "</table>\n",
              "</div>"
            ],
            "text/plain": [
              "                Mean  Median  Standard Deviation   IQR\n",
              "University A  2.7188    2.81            0.598730  0.76\n",
              "University B  2.8484    3.04            0.614849  0.79"
            ]
          },
          "execution_count": 3,
          "metadata": {},
          "output_type": "execute_result"
        }
      ],
      "source": [
        "# Exploratory Data Analysis (EDA)\n",
        "eda_summary = pd.DataFrame({\n",
        "    \"Mean\": [data_a.mean(), data_b.mean()],\n",
        "    \"Median\": [data_a.median(), data_b.median()],\n",
        "    \"Standard Deviation\": [data_a.std(), data_b.std()],\n",
        "    \"IQR\": [data_a.quantile(0.75) - data_a.quantile(0.25),\n",
        "            data_b.quantile(0.75) - data_b.quantile(0.25)]\n",
        "}, index=[\"University A\", \"University B\"])\n",
        "\n",
        "print(\"Numerical Summary:\")\n",
        "\n",
        "eda_summary"
      ]
    },
    {
      "cell_type": "markdown",
      "metadata": {
        "id": "MZzHOLwfF4zH"
      },
      "source": [
        "- Based on the obtained output result, it can be demonstrated that the mean of GPA students from University A (2.7188) is lower than GPA students from University B (2.8484). In terms of standard deviation, University A (2.81) is slightly lower than University B (3.04) which indicates the GPA variability in University A is slightly lower than University B. In aspect of interquartile range (IQR), small difference can be observed between University A (0.76) and University B (0.79) which indicates that half of GPA values from both universities similar in dispersion."
      ]
    },
    {
      "cell_type": "code",
      "execution_count": null,
      "metadata": {
        "id": "5zto1Yg2F4zH",
        "outputId": "2cc03e60-e0a8-401d-bbd7-b9e08794e600"
      },
      "outputs": [
        {
          "data": {
            "image/png": "[encoded data removed]",
            "text/plain": [
              "<Figure size 1200x600 with 1 Axes>"
            ]
          },
          "metadata": {},
          "output_type": "display_data"
        }
      ],
      "source": [
        "# Visualization\n",
        "plt.figure(figsize=(12, 6))\n",
        "\n",
        "# Horizontal Boxplot\n",
        "sns.boxplot(data=[Uni_A, Uni_B], palette=\"viridis\", orient='h')\n",
        "plt.yticks([0, 1], ['University A', 'University B'])\n",
        "plt.title(\"Horizontal Boxplot of GPAs\")\n",
        "plt.xlabel(\"GPA\")\n",
        "plt.ylabel(\"University\")\n",
        "\n",
        "plt.tight_layout()\n",
        "plt.show()"
      ]
    },
    {
      "cell_type": "markdown",
      "metadata": {
        "id": "ZVI9dFsVF4zH"
      },
      "source": [
        "- Based on the boxplot figure obtained for both universities, it can be demonstrated that there are no significant outliers in the data for both universities. The median of GPA students for University A is slightly lower than University B which is consistent with the mean values mentioned in the previous result. Both universities exhibit slightly skewed to the left."
      ]
    },
    {
      "cell_type": "code",
      "execution_count": null,
      "metadata": {
        "id": "o0tonYoXF4zI",
        "outputId": "295d9510-288c-4804-d5cd-4b71590f8a4a"
      },
      "outputs": [
        {
          "data": {
            "image/png": "[encoded data removed]",
            "text/plain": [
              "<Figure size 640x480 with 2 Axes>"
            ]
          },
          "metadata": {},
          "output_type": "display_data"
        }
      ],
      "source": [
        "# Histogram for University A\n",
        "plt.subplot(1, 2, 1)\n",
        "sns.histplot(Uni_A, kde=True, bins=10, color=\"blue\")\n",
        "plt.title(\"Histogram of GPAs: University A\")\n",
        "plt.xlabel(\"GPA\")\n",
        "plt.ylabel(\"Frequency\")\n",
        "\n",
        "# Histogram for University B\n",
        "plt.subplot(1, 2, 2)\n",
        "sns.histplot(Uni_B, kde=True, bins=10, color=\"magenta\")\n",
        "plt.title(\"Histogram of GPAs: University B\")\n",
        "plt.xlabel(\"GPA\")\n",
        "plt.ylabel(\"Frequency\")\n",
        "\n",
        "plt.tight_layout()\n",
        "plt.show()"
      ]
    },
    {
      "cell_type": "markdown",
      "metadata": {
        "id": "-ySIpD4wF4zI"
      },
      "source": [
        "- Based on histogram obtained as shown figure above, it can be showed that both universities are proximity to normal distribution with a slightly skewed to the left. In summary, it can be suggested that the exploratory data analysis (EDA) would suffice in supporting hypothesis testing as it provides statistical information to observe the significant difference between GPA students from University A and University B.\n",
        "\n",
        "- Since the p-value is 0.21 which is greater than threshold of significance level (0.05), it can be concluded that there is no correlation between GPA students in University A and University B meaning that there is no significant difference of GPAs among both Universities. Therefore, null hypothesis (H0) fails to be rejected as there is not enough evidence to support that GPA students from University A is lower than University B."
      ]
    },
    {
      "cell_type": "markdown",
      "metadata": {
        "id": "8H7LvqYYF4zI"
      },
      "source": []
    }
  ],
  "metadata": {
    "kernelspec": {
      "display_name": "Python 3 (ipykernel)",
      "language": "python",
      "name": "python3"
    },
    "language_info": {
      "codemirror_mode": {
        "name": "ipython",
        "version": 3
      },
      "file_extension": ".py",
      "mimetype": "text/x-python",
      "name": "python",
      "nbconvert_exporter": "python",
      "pygments_lexer": "ipython3",
      "version": "3.11.5"
    },
    "colab": {
      "provenance": [],
      "include_colab_link": true
    }
  },
  "nbformat": 4,
  "nbformat_minor": 0
}